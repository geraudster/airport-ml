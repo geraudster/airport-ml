{
 "cells": [
  {
   "cell_type": "code",
   "execution_count": null,
   "metadata": {},
   "outputs": [],
   "source": [
    "!pip install plotly cufflinks"
   ]
  },
  {
   "cell_type": "code",
   "execution_count": null,
   "metadata": {
    "collapsed": true
   },
   "outputs": [],
   "source": [
    "from pyspark.sql import SparkSession\n",
    "\n",
    "spark = SparkSession \\\n",
    "    .builder \\\n",
    "    .appName(\"Python Exploration\") \\\n",
    "    .getOrCreate()"
   ]
  },
  {
   "cell_type": "code",
   "execution_count": null,
   "metadata": {
    "collapsed": true
   },
   "outputs": [],
   "source": [
    "flights = spark.read.parquet('/data/parquet/flights')"
   ]
  },
  {
   "cell_type": "code",
   "execution_count": null,
   "metadata": {},
   "outputs": [],
   "source": [
    "flights.show()"
   ]
  },
  {
   "cell_type": "code",
   "execution_count": null,
   "metadata": {},
   "outputs": [],
   "source": [
    "flights.printSchema()"
   ]
  },
  {
   "cell_type": "code",
   "execution_count": null,
   "metadata": {
    "collapsed": true
   },
   "outputs": [],
   "source": [
    "import pandas as pd\n",
    "import numpy as np\n",
    "import scipy as sp\n",
    "import plotly.plotly as py\n",
    "import plotly.figure_factory as ff\n",
    "import pandas as pd"
   ]
  },
  {
   "cell_type": "code",
   "execution_count": null,
   "metadata": {
    "scrolled": false
   },
   "outputs": [],
   "source": [
    "flights.sample(False, 0.01).limit(100).toPandas()"
   ]
  },
  {
   "cell_type": "code",
   "execution_count": null,
   "metadata": {},
   "outputs": [],
   "source": [
    "flights = flights.withColumn('Delayed', flights.ArrDelay > 20)\n",
    "print(\"%% delayed/(total): %.02f\" % (flights.where(flights.Delayed == True).count() / flights.count()))"
   ]
  },
  {
   "cell_type": "markdown",
   "metadata": {},
   "source": [
    "# Flights by Year"
   ]
  },
  {
   "cell_type": "code",
   "execution_count": null,
   "metadata": {},
   "outputs": [],
   "source": [
    "import pyspark.sql.functions as func\n",
    "\n",
    "delayedByYear = flights \\\n",
    "    .groupBy(flights.Year) \\\n",
    "    .pivot(\"Delayed\", ['True', 'False']) \\\n",
    "    .count() \\\n",
    "    .toPandas()\n",
    "delayedByYear['Total'] = delayedByYear['True'] + delayedByYear['False']\n",
    "delayedByYear['Delayed'] = delayedByYear['True'] / delayedByYear['Total']\n",
    "delayedByYear['OnTime'] = delayedByYear['False'] / delayedByYear['Total']\n",
    "delayedByYear"
   ]
  },
  {
   "cell_type": "code",
   "execution_count": null,
   "metadata": {},
   "outputs": [],
   "source": [
    "import plotly.plotly as py\n",
    "import cufflinks as cf\n",
    "import pandas as pd\n",
    "import numpy as np\n",
    "\n",
    "delayedByYear[['Year', 'Delayed', 'OnTime']].iplot(x='Year', kind='bar', barmode='stack', filename='pandas-bar-chart')"
   ]
  },
  {
   "cell_type": "markdown",
   "metadata": {},
   "source": [
    "# Flights by Month"
   ]
  },
  {
   "cell_type": "code",
   "execution_count": null,
   "metadata": {},
   "outputs": [],
   "source": [
    "delayedByMonth = flights \\\n",
    "    .groupBy(flights.Month) \\\n",
    "    .pivot(\"Delayed\", ['True', 'False']) \\\n",
    "    .count() \\\n",
    "    .toPandas()\n",
    "delayedByMonth['Total'] = delayedByMonth['True'] + delayedByMonth['False']\n",
    "delayedByMonth['Delayed'] = delayedByMonth['True'] / delayedByMonth['Total']\n",
    "delayedByMonth['OnTime'] = delayedByMonth['False'] / delayedByMonth['Total']\n",
    "delayedByMonth"
   ]
  },
  {
   "cell_type": "code",
   "execution_count": null,
   "metadata": {},
   "outputs": [],
   "source": [
    "delayedByMonth[['Month', 'Delayed', 'OnTime']].iplot(x='Month', kind='bar', barmode='stack', filename='pandas-bar-chart')"
   ]
  },
  {
   "cell_type": "code",
   "execution_count": null,
   "metadata": {
    "collapsed": true
   },
   "outputs": [],
   "source": [
    "import plotly.graph_objs as go"
   ]
  },
  {
   "cell_type": "markdown",
   "metadata": {},
   "source": [
    "# Flights by Day of Week"
   ]
  },
  {
   "cell_type": "code",
   "execution_count": null,
   "metadata": {},
   "outputs": [],
   "source": [
    "delayedByDoW = flights \\\n",
    "    .groupBy(flights.DayOfWeek) \\\n",
    "    .pivot(\"Delayed\", ['True', 'False']) \\\n",
    "    .count() \\\n",
    "    .toPandas()\n",
    "delayedByDoW['Total'] = delayedByDoW['True'] + delayedByDoW['False']\n",
    "delayedByDoW['Delayed'] = delayedByDoW['True'] / delayedByDoW['Total']\n",
    "delayedByDoW['OnTime'] = delayedByDoW['False'] / delayedByDoW['Total']\n",
    "delayedByDoW"
   ]
  },
  {
   "cell_type": "code",
   "execution_count": null,
   "metadata": {},
   "outputs": [],
   "source": [
    "delayedByDoW[['DayOfWeek', 'Delayed', 'OnTime']].iplot(x='DayOfWeek', kind='bar', barmode='stack', filename='pandas-bar-chart')"
   ]
  },
  {
   "cell_type": "markdown",
   "metadata": {},
   "source": [
    "# Cube"
   ]
  },
  {
   "cell_type": "code",
   "execution_count": null,
   "metadata": {
    "collapsed": true
   },
   "outputs": [],
   "source": [
    "flightsCube = flights.cube(flights.Year, flights.Month, flights.DayOfWeek, flights.Delayed) \\\n",
    "                .count()"
   ]
  },
  {
   "cell_type": "code",
   "execution_count": null,
   "metadata": {
    "scrolled": true
   },
   "outputs": [],
   "source": [
    "flightsCube.where(func.isnull(\"Month\") & func.isnull(\"DayOfWeek\") & ~func.isnull(\"Delayed\") & ~func.isnull(\"Year\")).toPandas()"
   ]
  },
  {
   "cell_type": "code",
   "execution_count": null,
   "metadata": {},
   "outputs": [],
   "source": [
    "flightsCube.where(~func.isnull(\"Month\") & func.isnull(\"DayOfWeek\") & ~func.isnull(\"Delayed\") & ~func.isnull(\"Year\")).toPandas()"
   ]
  },
  {
   "cell_type": "markdown",
   "metadata": {},
   "source": [
    "# Flights by carrier"
   ]
  },
  {
   "cell_type": "code",
   "execution_count": null,
   "metadata": {},
   "outputs": [],
   "source": [
    "delayedByCarrier = flights \\\n",
    "    .groupBy(flights.UniqueCarrier) \\\n",
    "    .pivot(\"Delayed\", ['True', 'False']) \\\n",
    "    .count() \\\n",
    "    .toPandas()\n",
    "delayedByCarrier['Total'] = delayedByCarrier['True'] + delayedByCarrier['False']\n",
    "delayedByCarrier['Delayed'] = delayedByCarrier['True'] / delayedByCarrier['Total']\n",
    "delayedByCarrier['OnTime'] = delayedByCarrier['False'] / delayedByCarrier['Total']\n",
    "delayedByCarrier"
   ]
  },
  {
   "cell_type": "code",
   "execution_count": null,
   "metadata": {},
   "outputs": [],
   "source": [
    "delayedByCarrier[['UniqueCarrier', 'Delayed', 'OnTime']].iplot(x='UniqueCarrier', kind='bar', barmode='stack', filename='pandas-bar-chart')"
   ]
  },
  {
   "cell_type": "markdown",
   "metadata": {},
   "source": [
    "# By Origin -> Dest"
   ]
  },
  {
   "cell_type": "code",
   "execution_count": null,
   "metadata": {},
   "outputs": [],
   "source": [
    "#\"Origin\" , \"Dest\"\n",
    "delayedByRoute = flights \\\n",
    "    .groupBy(flights.Origin, flights.Dest) \\\n",
    "    .pivot(\"Delayed\", ['True', 'False']) \\\n",
    "    .count() \\\n",
    "    .toPandas()\n",
    "delayedByRoute['Total'] = delayedByRoute['True'] + delayedByRoute['False']\n",
    "delayedByRoute['Delayed'] = delayedByRoute['True'] / delayedByRoute['Total']\n",
    "delayedByRoute['OnTime'] = delayedByRoute['False'] / delayedByRoute['Total']\n",
    "delayedByRoute['Route'] = delayedByRoute['Origin'] + delayedByRoute['Dest']\n",
    "delayedByRoute"
   ]
  },
  {
   "cell_type": "code",
   "execution_count": null,
   "metadata": {},
   "outputs": [],
   "source": [
    "delayedByRoute[['Origin', 'Dest', 'Delayed']] \\\n",
    "    .iplot(x='Origin', y='Dest', z='Delayed', kind='heatmap', filename='pandas-heatmap-chart', colorscale='spectral')"
   ]
  },
  {
   "cell_type": "code",
   "execution_count": null,
   "metadata": {
    "collapsed": true
   },
   "outputs": [],
   "source": []
  }
 ],
 "metadata": {
  "kernelspec": {
   "display_name": "Python 3",
   "language": "python",
   "name": "python3"
  },
  "language_info": {
   "codemirror_mode": {
    "name": "ipython",
    "version": 3
   },
   "file_extension": ".py",
   "mimetype": "text/x-python",
   "name": "python",
   "nbconvert_exporter": "python",
   "pygments_lexer": "ipython3",
   "version": "3.5.2"
  }
 },
 "nbformat": 4,
 "nbformat_minor": 2
}
