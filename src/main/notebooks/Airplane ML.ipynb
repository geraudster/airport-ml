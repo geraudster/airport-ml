{
 "cells": [
  {
   "cell_type": "markdown",
   "metadata": {},
   "source": [
    "# Connexion au cluster"
   ]
  },
  {
   "cell_type": "code",
   "execution_count": 1,
   "metadata": {
    "collapsed": true
   },
   "outputs": [],
   "source": [
    "from pyspark.sql import SparkSession\n",
    "\n",
    "spark = SparkSession \\\n",
    "    .builder \\\n",
    "    .appName(\"Airplane ML\") \\\n",
    "    .config('spark.executor.memory', '6g') \\\n",
    "    .getOrCreate()"
   ]
  },
  {
   "cell_type": "markdown",
   "metadata": {},
   "source": [
    "# Chargement des données"
   ]
  },
  {
   "cell_type": "code",
   "execution_count": 2,
   "metadata": {
    "collapsed": true
   },
   "outputs": [],
   "source": [
    "flights = spark.read.parquet('/data/parquet/flights')"
   ]
  },
  {
   "cell_type": "code",
   "execution_count": 3,
   "metadata": {},
   "outputs": [],
   "source": [
    "from pyspark.sql import *\n",
    "from pyspark.sql.types import *\n",
    "import pyspark.sql.functions as F\n",
    "\n",
    "flights = flights.where((flights.Year == '2008') & (flights.Origin == 'JFK')) \\\n",
    "    .select('Year', 'Month', 'DayOfMonth', 'DayOfWeek', 'CRSDepTime', 'UniqueCarrier', 'FlightNum', 'Origin', 'Dest', 'ArrDelay') \\\n",
    "    .na.drop() \\\n",
    "    .withColumn('Delayed', (F.when(flights.ArrDelay == 'NA', 0).otherwise(flights.ArrDelay).cast('integer') > 20).cast('string')) \\\n",
    "    .withColumn('Year', flights.Year.cast('integer')) \\\n",
    "    .withColumn('Month', flights.Month.cast('integer')) \\\n",
    "    .withColumn('DayOfMonth', flights.DayOfMonth.cast('integer')) \\\n",
    "    .withColumn('DayOfWeek', flights.DayOfWeek.cast('integer')) \\\n",
    "    .withColumn('DepTime', flights.CRSDepTime.cast('integer'))\n",
    "    \n",
    "features = ['Year', 'Month', 'DayOfMonth', 'DayOfWeek', 'DepTime', 'UniqueCarrierIndex', 'FlightNumIndex', 'OriginIndex', 'DestIndex']"
   ]
  },
  {
   "cell_type": "code",
   "execution_count": 4,
   "metadata": {},
   "outputs": [
    {
     "data": {
      "text/html": [
       "<div>\n",
       "<table border=\"1\" class=\"dataframe\">\n",
       "  <thead>\n",
       "    <tr style=\"text-align: right;\">\n",
       "      <th></th>\n",
       "      <th>Year</th>\n",
       "      <th>Month</th>\n",
       "      <th>DayOfMonth</th>\n",
       "      <th>DayOfWeek</th>\n",
       "      <th>CRSDepTime</th>\n",
       "      <th>UniqueCarrier</th>\n",
       "      <th>FlightNum</th>\n",
       "      <th>Origin</th>\n",
       "      <th>Dest</th>\n",
       "      <th>ArrDelay</th>\n",
       "      <th>Delayed</th>\n",
       "      <th>DepTime</th>\n",
       "    </tr>\n",
       "  </thead>\n",
       "  <tbody>\n",
       "    <tr>\n",
       "      <th>0</th>\n",
       "      <td>2008</td>\n",
       "      <td>4</td>\n",
       "      <td>4</td>\n",
       "      <td>5</td>\n",
       "      <td>815</td>\n",
       "      <td>AA</td>\n",
       "      <td>1165</td>\n",
       "      <td>JFK</td>\n",
       "      <td>MIA</td>\n",
       "      <td>15</td>\n",
       "      <td>false</td>\n",
       "      <td>815</td>\n",
       "    </tr>\n",
       "    <tr>\n",
       "      <th>1</th>\n",
       "      <td>2008</td>\n",
       "      <td>4</td>\n",
       "      <td>4</td>\n",
       "      <td>5</td>\n",
       "      <td>840</td>\n",
       "      <td>AA</td>\n",
       "      <td>1323</td>\n",
       "      <td>JFK</td>\n",
       "      <td>ORD</td>\n",
       "      <td>NA</td>\n",
       "      <td>false</td>\n",
       "      <td>840</td>\n",
       "    </tr>\n",
       "    <tr>\n",
       "      <th>2</th>\n",
       "      <td>2008</td>\n",
       "      <td>4</td>\n",
       "      <td>4</td>\n",
       "      <td>5</td>\n",
       "      <td>1200</td>\n",
       "      <td>AA</td>\n",
       "      <td>1567</td>\n",
       "      <td>JFK</td>\n",
       "      <td>STT</td>\n",
       "      <td>NA</td>\n",
       "      <td>false</td>\n",
       "      <td>1200</td>\n",
       "    </tr>\n",
       "    <tr>\n",
       "      <th>3</th>\n",
       "      <td>2008</td>\n",
       "      <td>4</td>\n",
       "      <td>4</td>\n",
       "      <td>5</td>\n",
       "      <td>805</td>\n",
       "      <td>AA</td>\n",
       "      <td>1635</td>\n",
       "      <td>JFK</td>\n",
       "      <td>SJU</td>\n",
       "      <td>7</td>\n",
       "      <td>false</td>\n",
       "      <td>805</td>\n",
       "    </tr>\n",
       "    <tr>\n",
       "      <th>4</th>\n",
       "      <td>2008</td>\n",
       "      <td>4</td>\n",
       "      <td>4</td>\n",
       "      <td>5</td>\n",
       "      <td>1735</td>\n",
       "      <td>AA</td>\n",
       "      <td>1639</td>\n",
       "      <td>JFK</td>\n",
       "      <td>SJU</td>\n",
       "      <td>14</td>\n",
       "      <td>false</td>\n",
       "      <td>1735</td>\n",
       "    </tr>\n",
       "    <tr>\n",
       "      <th>5</th>\n",
       "      <td>2008</td>\n",
       "      <td>4</td>\n",
       "      <td>4</td>\n",
       "      <td>5</td>\n",
       "      <td>1540</td>\n",
       "      <td>AA</td>\n",
       "      <td>1815</td>\n",
       "      <td>JFK</td>\n",
       "      <td>ORD</td>\n",
       "      <td>128</td>\n",
       "      <td>true</td>\n",
       "      <td>1540</td>\n",
       "    </tr>\n",
       "    <tr>\n",
       "      <th>6</th>\n",
       "      <td>2008</td>\n",
       "      <td>4</td>\n",
       "      <td>4</td>\n",
       "      <td>5</td>\n",
       "      <td>750</td>\n",
       "      <td>AA</td>\n",
       "      <td>1821</td>\n",
       "      <td>JFK</td>\n",
       "      <td>DFW</td>\n",
       "      <td>NA</td>\n",
       "      <td>false</td>\n",
       "      <td>750</td>\n",
       "    </tr>\n",
       "    <tr>\n",
       "      <th>7</th>\n",
       "      <td>2008</td>\n",
       "      <td>4</td>\n",
       "      <td>4</td>\n",
       "      <td>5</td>\n",
       "      <td>1555</td>\n",
       "      <td>AA</td>\n",
       "      <td>1881</td>\n",
       "      <td>JFK</td>\n",
       "      <td>MIA</td>\n",
       "      <td>14</td>\n",
       "      <td>false</td>\n",
       "      <td>1555</td>\n",
       "    </tr>\n",
       "    <tr>\n",
       "      <th>8</th>\n",
       "      <td>2008</td>\n",
       "      <td>4</td>\n",
       "      <td>4</td>\n",
       "      <td>5</td>\n",
       "      <td>1545</td>\n",
       "      <td>AA</td>\n",
       "      <td>1917</td>\n",
       "      <td>JFK</td>\n",
       "      <td>MCO</td>\n",
       "      <td>43</td>\n",
       "      <td>true</td>\n",
       "      <td>1545</td>\n",
       "    </tr>\n",
       "    <tr>\n",
       "      <th>9</th>\n",
       "      <td>2008</td>\n",
       "      <td>4</td>\n",
       "      <td>4</td>\n",
       "      <td>5</td>\n",
       "      <td>1455</td>\n",
       "      <td>AA</td>\n",
       "      <td>2033</td>\n",
       "      <td>JFK</td>\n",
       "      <td>DFW</td>\n",
       "      <td>1</td>\n",
       "      <td>false</td>\n",
       "      <td>1455</td>\n",
       "    </tr>\n",
       "  </tbody>\n",
       "</table>\n",
       "</div>"
      ],
      "text/plain": [
       "   Year  Month  DayOfMonth  DayOfWeek CRSDepTime UniqueCarrier FlightNum  \\\n",
       "0  2008      4           4          5        815            AA      1165   \n",
       "1  2008      4           4          5        840            AA      1323   \n",
       "2  2008      4           4          5       1200            AA      1567   \n",
       "3  2008      4           4          5        805            AA      1635   \n",
       "4  2008      4           4          5       1735            AA      1639   \n",
       "5  2008      4           4          5       1540            AA      1815   \n",
       "6  2008      4           4          5        750            AA      1821   \n",
       "7  2008      4           4          5       1555            AA      1881   \n",
       "8  2008      4           4          5       1545            AA      1917   \n",
       "9  2008      4           4          5       1455            AA      2033   \n",
       "\n",
       "  Origin Dest ArrDelay Delayed  DepTime  \n",
       "0    JFK  MIA       15   false      815  \n",
       "1    JFK  ORD       NA   false      840  \n",
       "2    JFK  STT       NA   false     1200  \n",
       "3    JFK  SJU        7   false      805  \n",
       "4    JFK  SJU       14   false     1735  \n",
       "5    JFK  ORD      128    true     1540  \n",
       "6    JFK  DFW       NA   false      750  \n",
       "7    JFK  MIA       14   false     1555  \n",
       "8    JFK  MCO       43    true     1545  \n",
       "9    JFK  DFW        1   false     1455  "
      ]
     },
     "execution_count": 4,
     "metadata": {},
     "output_type": "execute_result"
    }
   ],
   "source": [
    "flights.limit(10) \\\n",
    "    .toPandas()"
   ]
  },
  {
   "cell_type": "code",
   "execution_count": 5,
   "metadata": {},
   "outputs": [
    {
     "data": {
      "text/plain": [
       "118804"
      ]
     },
     "execution_count": 5,
     "metadata": {},
     "output_type": "execute_result"
    }
   ],
   "source": [
    "flights.count()"
   ]
  },
  {
   "cell_type": "markdown",
   "metadata": {},
   "source": [
    "# Préparation du modèle"
   ]
  },
  {
   "cell_type": "markdown",
   "metadata": {},
   "source": [
    "## Séparation entrainement / test"
   ]
  },
  {
   "cell_type": "code",
   "execution_count": 6,
   "metadata": {
    "collapsed": true
   },
   "outputs": [],
   "source": [
    "from pyspark.ml.feature import VectorAssembler, VectorIndexer\n",
    "from pyspark.ml.feature import StringIndexer, IndexToString\n",
    "from pyspark.ml.classification import RandomForestClassifier\n",
    "from pyspark.ml import Pipeline\n",
    "\n",
    "(trainingData, testData) = [dataset.cache() for dataset in flights.randomSplit([0.7, 0.3])]"
   ]
  },
  {
   "cell_type": "markdown",
   "metadata": {},
   "source": [
    "## Feature engineering"
   ]
  },
  {
   "cell_type": "code",
   "execution_count": 7,
   "metadata": {
    "collapsed": true
   },
   "outputs": [],
   "source": [
    "labelIndexer = StringIndexer(inputCol='Delayed', outputCol='DelayedIndex').fit(trainingData)\n",
    "categoricalIndexers = [ StringIndexer(inputCol=inputColName, outputCol=inputColName + 'Index', handleInvalid='skip').fit(flights) \\\n",
    "                       for inputColName in ['UniqueCarrier', 'FlightNum', 'Origin', 'Dest'] ]"
   ]
  },
  {
   "cell_type": "code",
   "execution_count": 8,
   "metadata": {
    "collapsed": true
   },
   "outputs": [],
   "source": [
    "assembler = VectorAssembler(\n",
    "    inputCols=['Year', 'Month', 'DayOfMonth', 'DayOfWeek', 'DepTime', 'UniqueCarrierIndex', 'FlightNumIndex', 'OriginIndex', 'DestIndex'],\n",
    "    outputCol='features')"
   ]
  },
  {
   "cell_type": "markdown",
   "metadata": {},
   "source": [
    "## Paramétrage du modèle"
   ]
  },
  {
   "cell_type": "code",
   "execution_count": 9,
   "metadata": {
    "collapsed": true
   },
   "outputs": [],
   "source": [
    "rf = RandomForestClassifier(labelCol=\"DelayedIndex\", featuresCol=\"features\", maxBins=8000)\n",
    "\n",
    "pipeline = Pipeline(stages=[labelIndexer, *categoricalIndexers, assembler, rf])\n",
    "\n",
    "model = pipeline.fit(trainingData)"
   ]
  },
  {
   "cell_type": "code",
   "execution_count": 10,
   "metadata": {
    "scrolled": true
   },
   "outputs": [
    {
     "data": {
      "text/html": [
       "<div>\n",
       "<table border=\"1\" class=\"dataframe\">\n",
       "  <thead>\n",
       "    <tr style=\"text-align: right;\">\n",
       "      <th></th>\n",
       "      <th>Year</th>\n",
       "      <th>Month</th>\n",
       "      <th>DayOfMonth</th>\n",
       "      <th>DayOfWeek</th>\n",
       "      <th>CRSDepTime</th>\n",
       "      <th>UniqueCarrier</th>\n",
       "      <th>FlightNum</th>\n",
       "      <th>Origin</th>\n",
       "      <th>Dest</th>\n",
       "      <th>ArrDelay</th>\n",
       "      <th>...</th>\n",
       "      <th>DepTime</th>\n",
       "      <th>DelayedIndex</th>\n",
       "      <th>UniqueCarrierIndex</th>\n",
       "      <th>FlightNumIndex</th>\n",
       "      <th>OriginIndex</th>\n",
       "      <th>DestIndex</th>\n",
       "      <th>features</th>\n",
       "      <th>rawPrediction</th>\n",
       "      <th>probability</th>\n",
       "      <th>prediction</th>\n",
       "    </tr>\n",
       "  </thead>\n",
       "  <tbody>\n",
       "    <tr>\n",
       "      <th>0</th>\n",
       "      <td>2008</td>\n",
       "      <td>1</td>\n",
       "      <td>2</td>\n",
       "      <td>3</td>\n",
       "      <td>1000</td>\n",
       "      <td>B6</td>\n",
       "      <td>1083</td>\n",
       "      <td>JFK</td>\n",
       "      <td>CLT</td>\n",
       "      <td>1</td>\n",
       "      <td>...</td>\n",
       "      <td>1000</td>\n",
       "      <td>0.0</td>\n",
       "      <td>0.0</td>\n",
       "      <td>436.0</td>\n",
       "      <td>0.0</td>\n",
       "      <td>23.0</td>\n",
       "      <td>[2008.0, 1.0, 2.0, 3.0, 1000.0, 0.0, 436.0, 0....</td>\n",
       "      <td>[17.5463375622, 2.45366243778]</td>\n",
       "      <td>[0.877316878111, 0.122683121889]</td>\n",
       "      <td>0.0</td>\n",
       "    </tr>\n",
       "    <tr>\n",
       "      <th>1</th>\n",
       "      <td>2008</td>\n",
       "      <td>1</td>\n",
       "      <td>2</td>\n",
       "      <td>3</td>\n",
       "      <td>1010</td>\n",
       "      <td>B6</td>\n",
       "      <td>133</td>\n",
       "      <td>JFK</td>\n",
       "      <td>RSW</td>\n",
       "      <td>6</td>\n",
       "      <td>...</td>\n",
       "      <td>1010</td>\n",
       "      <td>0.0</td>\n",
       "      <td>0.0</td>\n",
       "      <td>3.0</td>\n",
       "      <td>0.0</td>\n",
       "      <td>20.0</td>\n",
       "      <td>[2008.0, 1.0, 2.0, 3.0, 1010.0, 0.0, 3.0, 0.0,...</td>\n",
       "      <td>[17.2260549481, 2.7739450519]</td>\n",
       "      <td>[0.861302747405, 0.138697252595]</td>\n",
       "      <td>0.0</td>\n",
       "    </tr>\n",
       "    <tr>\n",
       "      <th>2</th>\n",
       "      <td>2008</td>\n",
       "      <td>1</td>\n",
       "      <td>2</td>\n",
       "      <td>3</td>\n",
       "      <td>1015</td>\n",
       "      <td>B6</td>\n",
       "      <td>345</td>\n",
       "      <td>JFK</td>\n",
       "      <td>SRQ</td>\n",
       "      <td>-11</td>\n",
       "      <td>...</td>\n",
       "      <td>1015</td>\n",
       "      <td>0.0</td>\n",
       "      <td>0.0</td>\n",
       "      <td>79.0</td>\n",
       "      <td>0.0</td>\n",
       "      <td>50.0</td>\n",
       "      <td>[2008.0, 1.0, 2.0, 3.0, 1015.0, 0.0, 79.0, 0.0...</td>\n",
       "      <td>[17.0884975533, 2.91150244672]</td>\n",
       "      <td>[0.854424877664, 0.145575122336]</td>\n",
       "      <td>0.0</td>\n",
       "    </tr>\n",
       "    <tr>\n",
       "      <th>3</th>\n",
       "      <td>2008</td>\n",
       "      <td>1</td>\n",
       "      <td>2</td>\n",
       "      <td>3</td>\n",
       "      <td>1015</td>\n",
       "      <td>MQ</td>\n",
       "      <td>4620</td>\n",
       "      <td>JFK</td>\n",
       "      <td>BOS</td>\n",
       "      <td>37</td>\n",
       "      <td>...</td>\n",
       "      <td>1015</td>\n",
       "      <td>1.0</td>\n",
       "      <td>4.0</td>\n",
       "      <td>76.0</td>\n",
       "      <td>0.0</td>\n",
       "      <td>1.0</td>\n",
       "      <td>[2008.0, 1.0, 2.0, 3.0, 1015.0, 4.0, 76.0, 0.0...</td>\n",
       "      <td>[16.6274596338, 3.3725403662]</td>\n",
       "      <td>[0.83137298169, 0.16862701831]</td>\n",
       "      <td>0.0</td>\n",
       "    </tr>\n",
       "    <tr>\n",
       "      <th>4</th>\n",
       "      <td>2008</td>\n",
       "      <td>1</td>\n",
       "      <td>2</td>\n",
       "      <td>3</td>\n",
       "      <td>1055</td>\n",
       "      <td>B6</td>\n",
       "      <td>66</td>\n",
       "      <td>JFK</td>\n",
       "      <td>BUF</td>\n",
       "      <td>29</td>\n",
       "      <td>...</td>\n",
       "      <td>1055</td>\n",
       "      <td>1.0</td>\n",
       "      <td>0.0</td>\n",
       "      <td>108.0</td>\n",
       "      <td>0.0</td>\n",
       "      <td>7.0</td>\n",
       "      <td>[2008.0, 1.0, 2.0, 3.0, 1055.0, 0.0, 108.0, 0....</td>\n",
       "      <td>[17.1479540715, 2.85204592848]</td>\n",
       "      <td>[0.857397703576, 0.142602296424]</td>\n",
       "      <td>0.0</td>\n",
       "    </tr>\n",
       "    <tr>\n",
       "      <th>5</th>\n",
       "      <td>2008</td>\n",
       "      <td>1</td>\n",
       "      <td>2</td>\n",
       "      <td>3</td>\n",
       "      <td>1115</td>\n",
       "      <td>UA</td>\n",
       "      <td>11</td>\n",
       "      <td>JFK</td>\n",
       "      <td>SFO</td>\n",
       "      <td>-6</td>\n",
       "      <td>...</td>\n",
       "      <td>1115</td>\n",
       "      <td>0.0</td>\n",
       "      <td>5.0</td>\n",
       "      <td>22.0</td>\n",
       "      <td>0.0</td>\n",
       "      <td>2.0</td>\n",
       "      <td>[2008.0, 1.0, 2.0, 3.0, 1115.0, 5.0, 22.0, 0.0...</td>\n",
       "      <td>[15.6224645545, 4.37753544547]</td>\n",
       "      <td>[0.781123227726, 0.218876772274]</td>\n",
       "      <td>0.0</td>\n",
       "    </tr>\n",
       "    <tr>\n",
       "      <th>6</th>\n",
       "      <td>2008</td>\n",
       "      <td>1</td>\n",
       "      <td>2</td>\n",
       "      <td>3</td>\n",
       "      <td>1120</td>\n",
       "      <td>NW</td>\n",
       "      <td>315</td>\n",
       "      <td>JFK</td>\n",
       "      <td>MSP</td>\n",
       "      <td>15</td>\n",
       "      <td>...</td>\n",
       "      <td>1120</td>\n",
       "      <td>0.0</td>\n",
       "      <td>7.0</td>\n",
       "      <td>337.0</td>\n",
       "      <td>0.0</td>\n",
       "      <td>30.0</td>\n",
       "      <td>[2008.0, 1.0, 2.0, 3.0, 1120.0, 7.0, 337.0, 0....</td>\n",
       "      <td>[16.650631254, 3.34936874598]</td>\n",
       "      <td>[0.832531562701, 0.167468437299]</td>\n",
       "      <td>0.0</td>\n",
       "    </tr>\n",
       "    <tr>\n",
       "      <th>7</th>\n",
       "      <td>2008</td>\n",
       "      <td>1</td>\n",
       "      <td>2</td>\n",
       "      <td>3</td>\n",
       "      <td>1125</td>\n",
       "      <td>B6</td>\n",
       "      <td>1075</td>\n",
       "      <td>JFK</td>\n",
       "      <td>RIC</td>\n",
       "      <td>-1</td>\n",
       "      <td>...</td>\n",
       "      <td>1125</td>\n",
       "      <td>0.0</td>\n",
       "      <td>0.0</td>\n",
       "      <td>84.0</td>\n",
       "      <td>0.0</td>\n",
       "      <td>27.0</td>\n",
       "      <td>[2008.0, 1.0, 2.0, 3.0, 1125.0, 0.0, 84.0, 0.0...</td>\n",
       "      <td>[17.3545959217, 2.64540407827]</td>\n",
       "      <td>[0.867729796087, 0.132270203913]</td>\n",
       "      <td>0.0</td>\n",
       "    </tr>\n",
       "    <tr>\n",
       "      <th>8</th>\n",
       "      <td>2008</td>\n",
       "      <td>1</td>\n",
       "      <td>2</td>\n",
       "      <td>3</td>\n",
       "      <td>1130</td>\n",
       "      <td>AA</td>\n",
       "      <td>423</td>\n",
       "      <td>JFK</td>\n",
       "      <td>MIA</td>\n",
       "      <td>35</td>\n",
       "      <td>...</td>\n",
       "      <td>1130</td>\n",
       "      <td>1.0</td>\n",
       "      <td>3.0</td>\n",
       "      <td>182.0</td>\n",
       "      <td>0.0</td>\n",
       "      <td>12.0</td>\n",
       "      <td>[2008.0, 1.0, 2.0, 3.0, 1130.0, 3.0, 182.0, 0....</td>\n",
       "      <td>[15.0994635897, 4.90053641034]</td>\n",
       "      <td>[0.754973179483, 0.245026820517]</td>\n",
       "      <td>0.0</td>\n",
       "    </tr>\n",
       "    <tr>\n",
       "      <th>9</th>\n",
       "      <td>2008</td>\n",
       "      <td>1</td>\n",
       "      <td>2</td>\n",
       "      <td>3</td>\n",
       "      <td>1130</td>\n",
       "      <td>OH</td>\n",
       "      <td>4941</td>\n",
       "      <td>JFK</td>\n",
       "      <td>DCA</td>\n",
       "      <td>-8</td>\n",
       "      <td>...</td>\n",
       "      <td>1130</td>\n",
       "      <td>0.0</td>\n",
       "      <td>1.0</td>\n",
       "      <td>270.0</td>\n",
       "      <td>0.0</td>\n",
       "      <td>11.0</td>\n",
       "      <td>[2008.0, 1.0, 2.0, 3.0, 1130.0, 1.0, 270.0, 0....</td>\n",
       "      <td>[16.327057721, 3.67294227897]</td>\n",
       "      <td>[0.816352886051, 0.183647113949]</td>\n",
       "      <td>0.0</td>\n",
       "    </tr>\n",
       "  </tbody>\n",
       "</table>\n",
       "<p>10 rows × 21 columns</p>\n",
       "</div>"
      ],
      "text/plain": [
       "   Year  Month  DayOfMonth  DayOfWeek CRSDepTime UniqueCarrier FlightNum  \\\n",
       "0  2008      1           2          3       1000            B6      1083   \n",
       "1  2008      1           2          3       1010            B6       133   \n",
       "2  2008      1           2          3       1015            B6       345   \n",
       "3  2008      1           2          3       1015            MQ      4620   \n",
       "4  2008      1           2          3       1055            B6        66   \n",
       "5  2008      1           2          3       1115            UA        11   \n",
       "6  2008      1           2          3       1120            NW       315   \n",
       "7  2008      1           2          3       1125            B6      1075   \n",
       "8  2008      1           2          3       1130            AA       423   \n",
       "9  2008      1           2          3       1130            OH      4941   \n",
       "\n",
       "  Origin Dest ArrDelay    ...     DepTime  DelayedIndex  UniqueCarrierIndex  \\\n",
       "0    JFK  CLT        1    ...        1000           0.0                 0.0   \n",
       "1    JFK  RSW        6    ...        1010           0.0                 0.0   \n",
       "2    JFK  SRQ      -11    ...        1015           0.0                 0.0   \n",
       "3    JFK  BOS       37    ...        1015           1.0                 4.0   \n",
       "4    JFK  BUF       29    ...        1055           1.0                 0.0   \n",
       "5    JFK  SFO       -6    ...        1115           0.0                 5.0   \n",
       "6    JFK  MSP       15    ...        1120           0.0                 7.0   \n",
       "7    JFK  RIC       -1    ...        1125           0.0                 0.0   \n",
       "8    JFK  MIA       35    ...        1130           1.0                 3.0   \n",
       "9    JFK  DCA       -8    ...        1130           0.0                 1.0   \n",
       "\n",
       "   FlightNumIndex  OriginIndex  DestIndex  \\\n",
       "0           436.0          0.0       23.0   \n",
       "1             3.0          0.0       20.0   \n",
       "2            79.0          0.0       50.0   \n",
       "3            76.0          0.0        1.0   \n",
       "4           108.0          0.0        7.0   \n",
       "5            22.0          0.0        2.0   \n",
       "6           337.0          0.0       30.0   \n",
       "7            84.0          0.0       27.0   \n",
       "8           182.0          0.0       12.0   \n",
       "9           270.0          0.0       11.0   \n",
       "\n",
       "                                            features  \\\n",
       "0  [2008.0, 1.0, 2.0, 3.0, 1000.0, 0.0, 436.0, 0....   \n",
       "1  [2008.0, 1.0, 2.0, 3.0, 1010.0, 0.0, 3.0, 0.0,...   \n",
       "2  [2008.0, 1.0, 2.0, 3.0, 1015.0, 0.0, 79.0, 0.0...   \n",
       "3  [2008.0, 1.0, 2.0, 3.0, 1015.0, 4.0, 76.0, 0.0...   \n",
       "4  [2008.0, 1.0, 2.0, 3.0, 1055.0, 0.0, 108.0, 0....   \n",
       "5  [2008.0, 1.0, 2.0, 3.0, 1115.0, 5.0, 22.0, 0.0...   \n",
       "6  [2008.0, 1.0, 2.0, 3.0, 1120.0, 7.0, 337.0, 0....   \n",
       "7  [2008.0, 1.0, 2.0, 3.0, 1125.0, 0.0, 84.0, 0.0...   \n",
       "8  [2008.0, 1.0, 2.0, 3.0, 1130.0, 3.0, 182.0, 0....   \n",
       "9  [2008.0, 1.0, 2.0, 3.0, 1130.0, 1.0, 270.0, 0....   \n",
       "\n",
       "                    rawPrediction                       probability prediction  \n",
       "0  [17.5463375622, 2.45366243778]  [0.877316878111, 0.122683121889]        0.0  \n",
       "1   [17.2260549481, 2.7739450519]  [0.861302747405, 0.138697252595]        0.0  \n",
       "2  [17.0884975533, 2.91150244672]  [0.854424877664, 0.145575122336]        0.0  \n",
       "3   [16.6274596338, 3.3725403662]    [0.83137298169, 0.16862701831]        0.0  \n",
       "4  [17.1479540715, 2.85204592848]  [0.857397703576, 0.142602296424]        0.0  \n",
       "5  [15.6224645545, 4.37753544547]  [0.781123227726, 0.218876772274]        0.0  \n",
       "6   [16.650631254, 3.34936874598]  [0.832531562701, 0.167468437299]        0.0  \n",
       "7  [17.3545959217, 2.64540407827]  [0.867729796087, 0.132270203913]        0.0  \n",
       "8  [15.0994635897, 4.90053641034]  [0.754973179483, 0.245026820517]        0.0  \n",
       "9   [16.327057721, 3.67294227897]  [0.816352886051, 0.183647113949]        0.0  \n",
       "\n",
       "[10 rows x 21 columns]"
      ]
     },
     "execution_count": 10,
     "metadata": {},
     "output_type": "execute_result"
    }
   ],
   "source": [
    "testPredictions = model.transform(testData)\n",
    "testPredictions.limit(10).toPandas()\n"
   ]
  },
  {
   "cell_type": "markdown",
   "metadata": {},
   "source": [
    "## Évaluation du modèle"
   ]
  },
  {
   "cell_type": "code",
   "execution_count": 11,
   "metadata": {},
   "outputs": [
    {
     "data": {
      "text/plain": [
       "0.6895461729510051"
      ]
     },
     "execution_count": 11,
     "metadata": {},
     "output_type": "execute_result"
    }
   ],
   "source": [
    "from pyspark.ml.evaluation import BinaryClassificationEvaluator\n",
    "\n",
    "evaluator = BinaryClassificationEvaluator(labelCol='DelayedIndex')\n",
    "evaluator.evaluate(testPredictions)\n"
   ]
  },
  {
   "cell_type": "code",
   "execution_count": 12,
   "metadata": {},
   "outputs": [
    {
     "data": {
      "text/html": [
       "<div>\n",
       "<table border=\"1\" class=\"dataframe\">\n",
       "  <thead>\n",
       "    <tr style=\"text-align: right;\">\n",
       "      <th></th>\n",
       "      <th>feature</th>\n",
       "      <th>importance</th>\n",
       "    </tr>\n",
       "  </thead>\n",
       "  <tbody>\n",
       "    <tr>\n",
       "      <th>0</th>\n",
       "      <td>Year</td>\n",
       "      <td>0.000000</td>\n",
       "    </tr>\n",
       "    <tr>\n",
       "      <th>1</th>\n",
       "      <td>Month</td>\n",
       "      <td>0.238652</td>\n",
       "    </tr>\n",
       "    <tr>\n",
       "      <th>2</th>\n",
       "      <td>DayOfMonth</td>\n",
       "      <td>0.033362</td>\n",
       "    </tr>\n",
       "    <tr>\n",
       "      <th>3</th>\n",
       "      <td>DayOfWeek</td>\n",
       "      <td>0.060174</td>\n",
       "    </tr>\n",
       "    <tr>\n",
       "      <th>4</th>\n",
       "      <td>DepTime</td>\n",
       "      <td>0.362339</td>\n",
       "    </tr>\n",
       "    <tr>\n",
       "      <th>5</th>\n",
       "      <td>UniqueCarrierIndex</td>\n",
       "      <td>0.027655</td>\n",
       "    </tr>\n",
       "    <tr>\n",
       "      <th>6</th>\n",
       "      <td>FlightNumIndex</td>\n",
       "      <td>0.259092</td>\n",
       "    </tr>\n",
       "    <tr>\n",
       "      <th>7</th>\n",
       "      <td>OriginIndex</td>\n",
       "      <td>0.000000</td>\n",
       "    </tr>\n",
       "    <tr>\n",
       "      <th>8</th>\n",
       "      <td>DestIndex</td>\n",
       "      <td>0.018726</td>\n",
       "    </tr>\n",
       "  </tbody>\n",
       "</table>\n",
       "</div>"
      ],
      "text/plain": [
       "              feature  importance\n",
       "0                Year    0.000000\n",
       "1               Month    0.238652\n",
       "2          DayOfMonth    0.033362\n",
       "3           DayOfWeek    0.060174\n",
       "4             DepTime    0.362339\n",
       "5  UniqueCarrierIndex    0.027655\n",
       "6      FlightNumIndex    0.259092\n",
       "7         OriginIndex    0.000000\n",
       "8           DestIndex    0.018726"
      ]
     },
     "execution_count": 12,
     "metadata": {},
     "output_type": "execute_result"
    }
   ],
   "source": [
    "import pandas as pd\n",
    "rfModel = model.stages[6]\n",
    "featureImportance = pd.DataFrame({'feature': features, 'importance': rfModel.featureImportances.toArray()})\n",
    "featureImportance"
   ]
  },
  {
   "cell_type": "code",
   "execution_count": 13,
   "metadata": {},
   "outputs": [
    {
     "data": {
      "text/html": [
       "<iframe id=\"igraph\" scrolling=\"no\" style=\"border:none;\" seamless=\"seamless\" src=\"https://plot.ly/~geraud/33.embed\" height=\"525px\" width=\"100%\"></iframe>"
      ],
      "text/plain": [
       "<plotly.tools.PlotlyDisplay object>"
      ]
     },
     "execution_count": 13,
     "metadata": {},
     "output_type": "execute_result"
    }
   ],
   "source": [
    "import plotly.plotly as py\n",
    "import cufflinks as cf\n",
    "featureImportance.iplot(x='feature', kind='barh')"
   ]
  },
  {
   "cell_type": "markdown",
   "metadata": {},
   "source": [
    "# Exploitation du modèle"
   ]
  },
  {
   "cell_type": "code",
   "execution_count": 14,
   "metadata": {},
   "outputs": [],
   "source": [
    "model.save('/data/airplane-model')"
   ]
  },
  {
   "cell_type": "markdown",
   "metadata": {},
   "source": [
    "# Tuning des hyperparamètres"
   ]
  },
  {
   "cell_type": "code",
   "execution_count": null,
   "metadata": {
    "collapsed": true
   },
   "outputs": [],
   "source": [
    "from pyspark.ml.tuning import CrossValidator, ParamGridBuilder"
   ]
  },
  {
   "cell_type": "code",
   "execution_count": null,
   "metadata": {},
   "outputs": [],
   "source": [
    "rf.getNumTrees()"
   ]
  },
  {
   "cell_type": "code",
   "execution_count": null,
   "metadata": {
    "collapsed": true
   },
   "outputs": [],
   "source": [
    "paramGrid = ParamGridBuilder() \\\n",
    "    .addGrid(rf.numTrees, [10, 20, 50, 100]) \\\n",
    "    .addGrid(rf.maxDepth, [3, 5, 7]) \\\n",
    "    .build()"
   ]
  },
  {
   "cell_type": "code",
   "execution_count": null,
   "metadata": {
    "collapsed": true
   },
   "outputs": [],
   "source": [
    "crossval = CrossValidator(estimator=pipeline,\n",
    "                          estimatorParamMaps=paramGrid,\n",
    "                          evaluator=BinaryClassificationEvaluator(labelCol='DelayedIndex'),\n",
    "                          numFolds=10)"
   ]
  },
  {
   "cell_type": "code",
   "execution_count": null,
   "metadata": {},
   "outputs": [],
   "source": [
    "cvModel = crossval.fit(trainingData)"
   ]
  },
  {
   "cell_type": "code",
   "execution_count": null,
   "metadata": {},
   "outputs": [],
   "source": [
    "cvModel.bestModel"
   ]
  },
  {
   "cell_type": "code",
   "execution_count": null,
   "metadata": {},
   "outputs": [],
   "source": [
    "rfModel = cvModel.bestModel.stages[6]\n",
    "rfModel.getNumTrees"
   ]
  },
  {
   "cell_type": "code",
   "execution_count": null,
   "metadata": {},
   "outputs": [],
   "source": [
    "rfModel = cvModel.bestModel.stages[6]\n",
    "featureImportance = pd.DataFrame({'feature': features, 'importance': rfModel.featureImportances.toArray()})\n",
    "featureImportance"
   ]
  },
  {
   "cell_type": "code",
   "execution_count": null,
   "metadata": {},
   "outputs": [],
   "source": [
    "featureImportance.iplot(x='feature', kind='barh')"
   ]
  },
  {
   "cell_type": "code",
   "execution_count": null,
   "metadata": {
    "collapsed": true
   },
   "outputs": [],
   "source": [
    "testPredictions = cvModel.transform(testData)"
   ]
  },
  {
   "cell_type": "code",
   "execution_count": null,
   "metadata": {},
   "outputs": [],
   "source": [
    "evaluator = BinaryClassificationEvaluator(labelCol='DelayedIndex')\n",
    "evaluator.evaluate(testPredictions)"
   ]
  },
  {
   "cell_type": "code",
   "execution_count": null,
   "metadata": {},
   "outputs": [],
   "source": [
    "print(rf.explainParams())"
   ]
  }
 ],
 "metadata": {
  "kernelspec": {
   "display_name": "Python 3",
   "language": "python",
   "name": "python3"
  },
  "language_info": {
   "codemirror_mode": {
    "name": "ipython",
    "version": 3
   },
   "file_extension": ".py",
   "mimetype": "text/x-python",
   "name": "python",
   "nbconvert_exporter": "python",
   "pygments_lexer": "ipython3",
   "version": "3.5.2"
  }
 },
 "nbformat": 4,
 "nbformat_minor": 2
}
